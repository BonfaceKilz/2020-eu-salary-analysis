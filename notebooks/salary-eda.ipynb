{
 "cells": [
  {
   "cell_type": "code",
   "execution_count": null,
   "id": "48795572",
   "metadata": {},
   "outputs": [],
   "source": [
    "import pandas as pd\n",
    "import numpy as np\n",
    "import matplotlib.pyplot as plt\n",
    "import seaborn as sns\n",
    "import plotly.subplots as subplt\n",
    "import plotly.express as px\n",
    "import plotly.graph_objs as go\n",
    "import missingno as msno\n",
    "import plotly.offline as pyo\n",
    "import klib\n",
    "%matplotlib inline\n",
    "\n",
    "pyo.init_notebook_mode()"
   ]
  },
  {
   "cell_type": "code",
   "execution_count": null,
   "id": "73fb7a9e",
   "metadata": {},
   "outputs": [],
   "source": [
    "import sys\n",
    "print (sys.version)"
   ]
  },
  {
   "cell_type": "code",
   "execution_count": null,
   "id": "13f15216",
   "metadata": {},
   "outputs": [],
   "source": [
    "salaries = pd.read_csv(\"https://raw.githubusercontent.com/samburu/photo/master/IT%20Salary%20Survey%20EU%20%202020.csv\")"
   ]
  },
  {
   "cell_type": "code",
   "execution_count": null,
   "id": "0178f647",
   "metadata": {},
   "outputs": [],
   "source": [
    "msno.bar(salaries)"
   ]
  },
  {
   "cell_type": "markdown",
   "id": "5776cc86",
   "metadata": {},
   "source": [
    "# Data Exploration"
   ]
  },
  {
   "cell_type": "code",
   "execution_count": null,
   "id": "8afa924d",
   "metadata": {},
   "outputs": [],
   "source": [
    "salaries.head(5)"
   ]
  },
  {
   "cell_type": "code",
   "execution_count": null,
   "id": "a87fe05a",
   "metadata": {},
   "outputs": [],
   "source": [
    "salaries.shape"
   ]
  },
  {
   "cell_type": "code",
   "execution_count": null,
   "id": "908a84a6",
   "metadata": {},
   "outputs": [],
   "source": [
    "salaries.columns.to_list()"
   ]
  },
  {
   "cell_type": "code",
   "execution_count": null,
   "id": "4b23067a",
   "metadata": {},
   "outputs": [],
   "source": [
    "# Rename columns in order to make display on graphs\n",
    "# more user friendly\n",
    "salaries.rename(\n",
    "    columns={\n",
    "        \"Total Years of Experience\": \"Experience(Years)\",\n",
    "        \"Your main technology / programming language\": \"PL\",\n",
    "        \"Other technologies/programming languages you use often\": \"PL (Other)\",\n",
    "        \"Yearly brutto salary (without bonus and stocks) in EUR\": \"Salary (2020)\",\n",
    "        \"Yearly bonus + stocks in EUR\": \"Bonus (2020)\",\n",
    "        \"Annual brutto salary (without bonus and stocks) one year ago. Only answer if staying in the same country\": \"Salary (2019)\",\n",
    "        \"Number of vacation days\": \"Vacation (days)\",\n",
    "        \"Annual bonus+stocks one year ago. Only answer if staying in same country\": \"Bonus+Stocks (2019)\",\n",
    "        \"Main language at work\": \"PL (Work)\",\n",
    "        \"Position \": \"Position\",\n",
    "        \"Have you lost your job due to the coronavirus outbreak?\": \"Job Loss? (COVID)\",\n",
    "        \"Have you been forced to have a shorter working week (Kurzarbeit)? If yes, how many hours per week\": \"Shorter Work Week (hrs/week)\",\n",
    "        \"Have you received additional monetary support from your employer due to Work From Home? If yes, how much in 2020 in EUR\": \"Extra perks (2020)\",\n",
    "    }, inplace=True)"
   ]
  },
  {
   "cell_type": "code",
   "execution_count": null,
   "id": "9002dde2",
   "metadata": {},
   "outputs": [],
   "source": [
    "salaries.columns.to_list()"
   ]
  },
  {
   "cell_type": "code",
   "execution_count": null,
   "id": "0ffc50da",
   "metadata": {},
   "outputs": [],
   "source": [
    "# Missing values as %\n",
    "salaries.isna().mean().round(4) * 100"
   ]
  },
  {
   "cell_type": "code",
   "execution_count": null,
   "id": "55d2f333",
   "metadata": {},
   "outputs": [],
   "source": [
    "# Visualizing the missing values\n",
    "msno.bar(salaries)"
   ]
  },
  {
   "cell_type": "code",
   "execution_count": null,
   "id": "a1ddfdac",
   "metadata": {},
   "outputs": [],
   "source": [
    "klib.missingval_plot(salaries)"
   ]
  },
  {
   "cell_type": "code",
   "execution_count": null,
   "id": "da4b5a71",
   "metadata": {},
   "outputs": [],
   "source": [
    "px.box(salaries, y='Age', orientation='v',\n",
    "                    color=\"Gender\")"
   ]
  },
  {
   "cell_type": "markdown",
   "id": "f76f72b7",
   "metadata": {},
   "source": [
    "Distribution of Age"
   ]
  },
  {
   "cell_type": "code",
   "execution_count": null,
   "id": "b3170f64",
   "metadata": {},
   "outputs": [],
   "source": [
    "# Showing the distribution\n",
    "# The hue - colors - indicate gender\n",
    "fig = subplt.make_subplots(rows=4, shared_xaxes=True)\n",
    "\n",
    "for i, data in enumerate(px.box(salaries, x='Age', orientation='h',\n",
    "                    color=\"Gender\").data):\n",
    "    fig.add_trace(data, row=i+1, col=1)\n",
    "\n",
    "for data in px.histogram(salaries, x=\"Age\", color=\"Gender\").data:\n",
    "    fig.add_trace(data, row=4, col=1)\n",
    "fig.update_layout(title_text=\"Distribution By Sex\")\n",
    "fig.show()"
   ]
  },
  {
   "cell_type": "code",
   "execution_count": null,
   "id": "887dd2e9",
   "metadata": {},
   "outputs": [],
   "source": [
    "# Different way of showing the above\n",
    "px.histogram(salaries, x=\"Age\", color=\"Gender\", marginal=\"violin\")"
   ]
  },
  {
   "cell_type": "code",
   "execution_count": null,
   "id": "a97793de",
   "metadata": {},
   "outputs": [],
   "source": [
    "# Showing the distribution:\n",
    "klib.dist_plot(salaries)"
   ]
  },
  {
   "cell_type": "code",
   "execution_count": null,
   "id": "33e263f4",
   "metadata": {},
   "outputs": [],
   "source": [
    "# Outliers?\n",
    "px.box(salaries, x='Salary (2020)')"
   ]
  },
  {
   "cell_type": "code",
   "execution_count": null,
   "id": "a84c5765",
   "metadata": {},
   "outputs": [],
   "source": [
    "salaries.describe()"
   ]
  },
  {
   "cell_type": "code",
   "execution_count": null,
   "id": "050cc850",
   "metadata": {},
   "outputs": [],
   "source": [
    "def fix_outliers(df, feature, q1, q3, n=1.5):\n",
    "    df = df.copy()\n",
    "    p25 = df[feature].quantile(q1)\n",
    "    p75 = df[feature].quantile(q3)\n",
    "    iqr = p75 - p25\n",
    "    upper_limit = p75 + n * iqr\n",
    "    lower_limit = p25 - n * iqr\n",
    "    # New DataFrame after removing the outlier \n",
    "    new_df = df[(df[feature] > lower_limit) & (df[feature] < upper_limit)]\n",
    "    # Checking the difference\n",
    "    diff = df.shape[0] - new_df.shape[0]\n",
    "    return (diff, new_df)"
   ]
  },
  {
   "cell_type": "code",
   "execution_count": null,
   "id": "fef1708d",
   "metadata": {},
   "outputs": [],
   "source": [
    "rows, salaries = fix_outliers(salaries, 'Salary (2020)', 0.25, 0.75)"
   ]
  },
  {
   "cell_type": "code",
   "execution_count": null,
   "id": "aed47cb2",
   "metadata": {},
   "outputs": [],
   "source": [
    "rows"
   ]
  },
  {
   "cell_type": "code",
   "execution_count": null,
   "id": "46af88a4",
   "metadata": {},
   "outputs": [],
   "source": [
    "px.box(salaries, x='Salary (2020)')"
   ]
  },
  {
   "cell_type": "code",
   "execution_count": null,
   "id": "8905501b",
   "metadata": {},
   "outputs": [],
   "source": [
    "# After dropping salary outliers\n",
    "klib.dist_plot(salaries)"
   ]
  },
  {
   "cell_type": "code",
   "execution_count": null,
   "id": "54e64d25",
   "metadata": {},
   "outputs": [],
   "source": [
    "# Different way of showing the above\n",
    "px.histogram(salaries, x=\"Age\", color=\"Gender\", marginal=\"box\")"
   ]
  },
  {
   "cell_type": "code",
   "execution_count": null,
   "id": "e3864049",
   "metadata": {
    "scrolled": true
   },
   "outputs": [],
   "source": [
    "salaries.dropna(axis=0, subset=['Seniority level',], inplace=True)"
   ]
  },
  {
   "cell_type": "code",
   "execution_count": null,
   "id": "fdebce38",
   "metadata": {},
   "outputs": [],
   "source": [
    "px.pie(salaries, names='Seniority level')"
   ]
  },
  {
   "cell_type": "code",
   "execution_count": null,
   "id": "ab41bf52",
   "metadata": {},
   "outputs": [],
   "source": [
    "salaries['Seniority level'].value_counts()\n",
    "# salaries['Seniority level']"
   ]
  },
  {
   "cell_type": "code",
   "execution_count": null,
   "id": "d86431a5",
   "metadata": {},
   "outputs": [],
   "source": [
    "salaries['Seniority level'].unique()"
   ]
  },
  {
   "cell_type": "code",
   "execution_count": null,
   "id": "aaf929dd",
   "metadata": {},
   "outputs": [],
   "source": [
    "salaries.loc[salaries['Seniority level']== 'Entry level']"
   ]
  },
  {
   "cell_type": "code",
   "execution_count": null,
   "id": "03a2c57f",
   "metadata": {},
   "outputs": [],
   "source": [
    "# Rename seniority\n",
    "_remap = {}\n",
    "for col in salaries['Seniority level'].unique():\n",
    "    match col:\n",
    "        case 'Head':\n",
    "            _remap[col] = 'Lead'\n",
    "        case col if any([col in ['VP', 'No level', 'Director', 'Key'],\n",
    "                        \"manager\" in str(col).lower()]):\n",
    "            _remap[col] = 'Manager'\n",
    "        case col if any([col in ['Principal', 'No level '],\n",
    "                        \"no idea\" in str(col).lower()]):\n",
    "            _remap[col] = 'Senior'\n",
    "        case col if col in ['Entry level', 'Intern']:\n",
    "            _remap[col] = 'Junior'\n",
    "salaries['Seniority level'].replace(_remap.keys(), _remap.values(), inplace=True)"
   ]
  },
  {
   "cell_type": "code",
   "execution_count": null,
   "id": "f9816cb3",
   "metadata": {},
   "outputs": [],
   "source": [
    "salaries['Seniority level'].value_counts()\n"
   ]
  },
  {
   "cell_type": "code",
   "execution_count": null,
   "id": "1d86568e",
   "metadata": {},
   "outputs": [],
   "source": [
    "px.pie(salaries, names='Seniority level')"
   ]
  },
  {
   "cell_type": "code",
   "execution_count": null,
   "id": "d80574c7",
   "metadata": {
    "scrolled": true
   },
   "outputs": [],
   "source": [
    "pd.options.display.max_columns = 999\n",
    "pd.options.display.max_rows = 999\n",
    "\n",
    "salaries.loc[salaries['Seniority level'] == 'No level ']"
   ]
  },
  {
   "cell_type": "code",
   "execution_count": null,
   "id": "ef24ac86",
   "metadata": {},
   "outputs": [],
   "source": [
    "pd.options.display.max_rows = 999\n",
    "salaries['Position'].value_counts()"
   ]
  },
  {
   "cell_type": "code",
   "execution_count": null,
   "id": "79ad2412",
   "metadata": {},
   "outputs": [],
   "source": [
    "_remap = {}\n",
    "for col in salaries['Position'].unique():\n",
    "    match col:\n",
    "        case col if \"lead\" in str(col).lower():\n",
    "            _remap[col] = \"Team Lead\"\n",
    "        case col if \"ios\" in str(col).lower():\n",
    "            _remap[col] = \"Mobile Developer\"\n",
    "        case col if col in ['QA Engineer'] or 'test' in (c := str(col).lower()) or 'qa' in c:\n",
    "            _remap[col] = \"QA Engineer\"\n",
    "        case col if col in [\"DatabEngineer\", \"data engineer\",\n",
    "                            \"Big Data Engineer\", \"Senior Data Engineer\"]:\n",
    "            _remap[col] = \"Data Engineer\"\n",
    "        case col if any([col in [\"Stuttgart\", \"Recruiter\", \"Consultant\", \"Presales Engineer\", \"Researcher\",\n",
    "                                \"Localization producer\", \"Reporting Engineer\", \"agile master\", \"Banker\",\n",
    "                                \"Agile Coach\", \"Scrum Master\", \"Beikoch\", \"It Consulting\",\n",
    "                                 \"Computational linguist\", \"Rentner\", \"Application Consultant\", \"Professor\"],\n",
    "                         \"sales\" in (c := str(col).lower()),\n",
    "                         \"consult\" in c,\n",
    "                         \"agile\" in c,\n",
    "                         \"student\" in c,\n",
    "                         \"recruit\" in c]):\n",
    "            _remap[col] = \"Other\"\n",
    "        case col if col in ['Fullstack Developer', \"IT Spezialist\", 'Embedded Software Engineer',\n",
    "                            'Sofware/Hardware Engineer', 'Software Engineer', \"Firmware Engineer\", \"Hardware Engineer\"] or \"full\" in (c := str(col).lower()) or \"java\" in c or \"data engineer\" in c:\n",
    "            _remap[col] = 'Software/Hardware Engineer'\n",
    "        case col if any([\"head\" in (c := str(col).lower()),\n",
    "                         \"manage\" in c, \"scrum\" in c,\n",
    "                         \"cto\" in c,\n",
    "                         \"vp\" in c, \"director\" in c,]):\n",
    "            _remap[col] = 'Manager'\n",
    "        case col if \"insights\" in (c := str(col).lower()) or \"analyst\" in c or \"analytics\" in c:\n",
    "            _remap[col] = \"Data Analyst\"\n",
    "        case col if col in ['DevOps', 'SRE', 'DBA',\n",
    "                            \"Support Engineer\",\n",
    "                            \"support engineer\"] \\\n",
    "                  or \"security\" in (c := str(col).lower()) \\\n",
    "                  or \"roboti\" in c \\\n",
    "                  or \"sap\" in c \\\n",
    "                  or \"network\" in c \\\n",
    "                  or \"system\" in c \\\n",
    "                  or \"cloud\" in c:\n",
    "            _remap[col] = \"Infra\"\n",
    "        case col if \"archite\" in str(col).lower():\n",
    "            _remap[col] = \"Architect\"\n",
    "        case col if col in ['Designer (UI/UX)', 'Graphic Designer']:\n",
    "            _remap[col] = 'UI/UX'\n",
    "salaries['Position'].replace(_remap.keys(), _remap.values(), inplace=True)\n"
   ]
  },
  {
   "cell_type": "code",
   "execution_count": null,
   "id": "f2438a43",
   "metadata": {},
   "outputs": [],
   "source": [
    "# px.bar(salaries.value_counts('Position'), y=salaries['Position'], color = \"Gender\")\n",
    "sns.countplot(y=\"Position\", hue=\"Gender\", data=salaries)"
   ]
  },
  {
   "cell_type": "code",
   "execution_count": null,
   "id": "797472ae",
   "metadata": {},
   "outputs": [],
   "source": [
    "fig = px.bar(salaries.groupby(['Position']).mean().reset_index(), x='Position', y='Salary (2020)')\n",
    "fig.update_layout(barmode='stack',  xaxis={'categoryorder':'total descending'})\n",
    "fig.show()\n",
    "# TODO set start y axis"
   ]
  },
  {
   "cell_type": "code",
   "execution_count": null,
   "id": "abbeb389",
   "metadata": {},
   "outputs": [],
   "source": [
    "px.histogram(salaries, x=\"Salary (2020)\", color=\"Gender\", marginal=\"box\")"
   ]
  },
  {
   "cell_type": "code",
   "execution_count": null,
   "id": "f5d7127b",
   "metadata": {},
   "outputs": [],
   "source": [
    "salaries[\"PL\"].value_counts()\n",
    "# sns.countplot(y=\"PL\", data=salaries)"
   ]
  },
  {
   "cell_type": "code",
   "execution_count": null,
   "id": "bd2a70e7",
   "metadata": {},
   "outputs": [],
   "source": []
  },
  {
   "cell_type": "code",
   "execution_count": null,
   "id": "4ffd3079",
   "metadata": {},
   "outputs": [],
   "source": [
    "_old = salaries[\"PL\"].dropna().unique().tolist()\n",
    "_new = [val.strip().lower() for val in _old]\n",
    "salaries['PL'].replace(_old, _new, inplace=True)"
   ]
  },
  {
   "cell_type": "code",
   "execution_count": null,
   "id": "1e49ff49",
   "metadata": {},
   "outputs": [],
   "source": []
  },
  {
   "cell_type": "code",
   "execution_count": null,
   "id": "a3dad9d4",
   "metadata": {},
   "outputs": [],
   "source": [
    "# Main PL for everyone\n",
    "from wordcloud import WordCloud\n",
    "plt.figure(num=None,figsize=(100,100),dpi=80,facecolor='w',edgecolor='k')\n",
    "plt.imshow(WordCloud().generate(' '.join([str(val) for val in salaries['PL'].dropna().values.tolist()])))\n",
    "plt.axis(\"off\")\n",
    "plt.show()"
   ]
  },
  {
   "cell_type": "code",
   "execution_count": null,
   "id": "4a9fe4fc",
   "metadata": {},
   "outputs": [],
   "source": [
    "# Backend Devs\n",
    "plt.figure(num=None,figsize=(100,100),dpi=80,facecolor='w',edgecolor='k')\n",
    "plt.imshow(WordCloud().generate(' '.join([str(val) for val\n",
    "                                          in salaries[salaries[\"Position\"] ==\n",
    "                                                      \"Backend Developer\"]['PL'].dropna().values.tolist()])))\n",
    "plt.axis(\"off\")\n",
    "plt.show()"
   ]
  },
  {
   "cell_type": "code",
   "execution_count": null,
   "id": "8556164f",
   "metadata": {},
   "outputs": [],
   "source": [
    "# Backend Devs\n",
    "plt.figure(num=None,figsize=(100,100),dpi=80,facecolor='w',edgecolor='k')\n",
    "plt.imshow(WordCloud().generate(' '.join([str(val) for val\n",
    "                                          in salaries[salaries[\"Position\"] ==\n",
    "                                                      \"Frontend Developer\"]['PL'].dropna().values.tolist()])))\n",
    "plt.axis(\"off\")\n",
    "plt.show()"
   ]
  },
  {
   "cell_type": "code",
   "execution_count": null,
   "id": "679b9aad",
   "metadata": {},
   "outputs": [],
   "source": [
    "# Backend Devs\n",
    "plt.figure(num=None,figsize=(100,100),dpi=80,facecolor='w',edgecolor='k')\n",
    "plt.imshow(WordCloud().generate(' '.join([str(val) for val\n",
    "                                          in salaries[salaries[\"Position\"] ==\n",
    "                                                      \"Infra\"]['PL'].dropna().values.tolist()])))\n",
    "plt.axis(\"off\")\n",
    "plt.show()"
   ]
  },
  {
   "cell_type": "code",
   "execution_count": null,
   "id": "f3f05291",
   "metadata": {},
   "outputs": [],
   "source": [
    "# Data Scientists\n",
    "plt.figure(num=None,figsize=(100,100),dpi=80,facecolor='w',edgecolor='k')\n",
    "plt.imshow(WordCloud().generate(' '.join([str(val) for val\n",
    "                                          in salaries[salaries[\"Position\"].str.contains(\"Data|data\",\n",
    "                                                                                        na = False)]['PL'].dropna().values.tolist()])))\n",
    "plt.axis(\"off\")\n",
    "plt.show()"
   ]
  },
  {
   "cell_type": "code",
   "execution_count": null,
   "id": "f1d99824",
   "metadata": {},
   "outputs": [],
   "source": [
    "# SW/HW Engineer\n",
    "plt.figure(num=None,figsize=(100,100),dpi=80,facecolor='w',edgecolor='k')\n",
    "plt.imshow(WordCloud().generate(' '.join([str(val) for val\n",
    "                                          in salaries[salaries[\"Position\"].str.contains(\"Software/Hardware Engineer\",\n",
    "                                                                                        na = False)]['PL'].dropna().values.tolist()])))\n",
    "plt.axis(\"off\")\n",
    "plt.show()"
   ]
  },
  {
   "cell_type": "code",
   "execution_count": null,
   "id": "f637d919",
   "metadata": {},
   "outputs": [],
   "source": [
    "salaries['Total years of experience'].loc[salaries['Total years of experience']=='6 (not as a data scientist, but as a lab scientist)'] = '6'\n",
    "salaries['Total years of experience'].loc[salaries['Total years of experience']=='less than year'] = '1'\n",
    "salaries['Total years of experience'].loc[salaries['Total years of experience']=='15, thereof 8 as CTO'] = '15'\n",
    "salaries['Total years of experience'].loc[salaries['Total years of experience']=='1 (as QA Engineer) / 11 in total'] = '11'\n",
    "salaries['Total years of experience'].loc[salaries['Total years of experience']=='383'] = None\n",
    "salaries['Total years of experience'].loc[salaries['Total years of experience']=='1,5'] = '1.5'\n",
    "salaries['Total years of experience'].loc[salaries['Total years of experience']=='2,5'] = '2.5'\n"
   ]
  },
  {
   "cell_type": "code",
   "execution_count": null,
   "id": "407ef244",
   "metadata": {},
   "outputs": [],
   "source": [
    "salaries['Total years of experience'].value_counts()"
   ]
  },
  {
   "cell_type": "code",
   "execution_count": null,
   "id": "9f2adc19",
   "metadata": {},
   "outputs": [],
   "source": [
    "salaries[\"Total years of experience\"] = salaries[\"Total years of experience\"].astype(\"float\")"
   ]
  },
  {
   "cell_type": "code",
   "execution_count": null,
   "id": "11de4c33",
   "metadata": {},
   "outputs": [],
   "source": [
    "px.scatter(salaries,\n",
    "           y=\"Total years of experience\", x=\"Salary (2020)\",\n",
    "           trendline=\"ols\",\n",
    "           color=\"Gender\")"
   ]
  },
  {
   "cell_type": "code",
   "execution_count": null,
   "id": "f07a7c8d",
   "metadata": {},
   "outputs": [],
   "source": [
    "salaries.columns "
   ]
  },
  {
   "cell_type": "code",
   "execution_count": null,
   "id": "f624c6a5",
   "metadata": {},
   "outputs": [],
   "source": [
    "salaries[\"Company type\"].value_counts()"
   ]
  },
  {
   "cell_type": "code",
   "execution_count": null,
   "id": "29646539",
   "metadata": {},
   "outputs": [],
   "source": []
  }
 ],
 "metadata": {
  "kernelspec": {
   "display_name": ".venv",
   "language": "python",
   "name": ".venv"
  },
  "language_info": {
   "codemirror_mode": {
    "name": "ipython",
    "version": 3
   },
   "file_extension": ".py",
   "mimetype": "text/x-python",
   "name": "python",
   "nbconvert_exporter": "python",
   "pygments_lexer": "ipython3",
   "version": "3.9.9"
  }
 },
 "nbformat": 4,
 "nbformat_minor": 5
}
